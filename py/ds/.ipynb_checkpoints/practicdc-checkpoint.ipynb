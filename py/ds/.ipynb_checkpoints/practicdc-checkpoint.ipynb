{
 "cells": [
  {
   "cell_type": "markdown",
   "id": "f3887678-81ad-48b7-bb5d-ba4e4be9792a",
   "metadata": {},
   "source": [
    "# list"
   ]
  },
  {
   "cell_type": "code",
   "execution_count": 1,
   "id": "da0ea727-4af2-4af1-b35c-a8968b2a0772",
   "metadata": {},
   "outputs": [],
   "source": [
    "x = [1,2,3,4,5]"
   ]
  },
  {
   "cell_type": "code",
   "execution_count": 2,
   "id": "c08197b0-9b84-4f80-b2ed-588948918422",
   "metadata": {},
   "outputs": [
    {
     "name": "stdout",
     "output_type": "stream",
     "text": [
      "[1, 2, 3, 4, 5]\n"
     ]
    }
   ],
   "source": [
    "print(x)"
   ]
  },
  {
   "cell_type": "code",
   "execution_count": 1,
   "id": "765763e5-1a7f-49f2-9ca5-edd102915f16",
   "metadata": {},
   "outputs": [],
   "source": [
    "y = 3\n",
    "c = 6\n",
    "d = c - y"
   ]
  },
  {
   "cell_type": "code",
   "execution_count": 2,
   "id": "95936b34-dbc9-442f-9269-ed64bccace45",
   "metadata": {},
   "outputs": [
    {
     "data": {
      "text/plain": [
       "3"
      ]
     },
     "execution_count": 2,
     "metadata": {},
     "output_type": "execute_result"
    }
   ],
   "source": [
    "d"
   ]
  },
  {
   "cell_type": "code",
   "execution_count": null,
   "id": "261a4974-914f-4481-a130-18d10fdaee05",
   "metadata": {},
   "outputs": [],
   "source": []
  }
 ],
 "metadata": {
  "kernelspec": {
   "display_name": "Python 3 (ipykernel)",
   "language": "python",
   "name": "python3"
  },
  "language_info": {
   "codemirror_mode": {
    "name": "ipython",
    "version": 3
   },
   "file_extension": ".py",
   "mimetype": "text/x-python",
   "name": "python",
   "nbconvert_exporter": "python",
   "pygments_lexer": "ipython3",
   "version": "3.13.5"
  }
 },
 "nbformat": 4,
 "nbformat_minor": 5
}
